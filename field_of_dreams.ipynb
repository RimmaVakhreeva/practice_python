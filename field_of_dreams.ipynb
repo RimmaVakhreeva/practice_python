{
 "cells": [
  {
   "cell_type": "code",
   "execution_count": null,
   "metadata": {},
   "outputs": [],
   "source": [
    "# list of words from file words.txt\n",
    "word_list = []\n",
    "with open('words.txt') as f:  # or whatever the wordlist is saved as\n",
    "    for line in f.readlines():\n",
    "        word_list.append(line.strip())\n",
    "word_list"
   ]
  },
  {
   "cell_type": "code",
   "execution_count": null,
   "metadata": {},
   "outputs": [],
   "source": [
    "# random word selection\n",
    "from random import choice\n",
    "rword = choice(word_list)\n",
    "rword"
   ]
  },
  {
   "cell_type": "code",
   "execution_count": null,
   "metadata": {},
   "outputs": [],
   "source": [
    "random_word = choice(word_list)\n",
    "list_random_word = list(random_word)\n",
    "new_list_random_word = list_random_word.copy()\n",
    "\n",
    "for i in range(1, (len(list_random_word) - 1)):\n",
    "    list_random_word[i] = '_'\n",
    "\n",
    "secret_word = ' '.join(list_random_word)\n",
    "print(f'Guess the word: {secret_word}')\n",
    "\n",
    "n = (len(new_list_random_word)) - 1\n",
    "i = 1\n",
    "while i < n:\n",
    "    enter_word = input('Enter the word: ')\n",
    "\n",
    "    if enter_word != random_word:\n",
    "        list_random_word[i] = new_list_random_word[i]\n",
    "        secret_word = ' '.join(list_random_word)\n",
    "        print(f'Help: {secret_word}')\n",
    "        i += 1\n",
    "    else:\n",
    "        print('Keep it up!')\n",
    "        break"
   ]
  }
 ],
 "metadata": {
  "kernelspec": {
   "display_name": "Python 3",
   "language": "python",
   "name": "python3"
  },
  "language_info": {
   "codemirror_mode": {
    "name": "ipython",
    "version": 3
   },
   "file_extension": ".py",
   "mimetype": "text/x-python",
   "name": "python",
   "nbconvert_exporter": "python",
   "pygments_lexer": "ipython3",
   "version": "3.7.3"
  }
 },
 "nbformat": 4,
 "nbformat_minor": 4
}
